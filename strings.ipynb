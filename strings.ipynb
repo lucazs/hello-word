{
 "cells": [
  {
   "cell_type": "markdown",
   "metadata": {
    "deletable": true,
    "editable": true
   },
   "source": [
    "Strings\n",
    "======="
   ]
  },
  {
   "cell_type": "code",
   "execution_count": null,
   "metadata": {
    "collapsed": false,
    "deletable": true,
    "editable": true
   },
   "outputs": [],
   "source": [
    "# Três maneiras de definir uma string\n",
    "a = \"Python\"\n",
    "b = 'Python'\n",
    "c = \"\"\"Python\"\"\" # ou '''Python'''\n",
    "print(a == b, b == c)"
   ]
  },
  {
   "cell_type": "code",
   "execution_count": null,
   "metadata": {
    "collapsed": false,
    "deletable": true,
    "editable": true
   },
   "outputs": [],
   "source": [
    "# O uso de aspas triplas permite definir uma string contendo newlines.\n",
    "# Ela é muito usada para docstrings\n",
    "long_string = \"\"\"Esta é uma longa linha para mostrar como\n",
    "as aspas triplas podem ser usadas em um programa.\n",
    "Esta é uma segunda frase apenas com o intuito de alongar ainda mais\n",
    "a string\"\"\"\n",
    "print(long_string)\n",
    "print()\n",
    "print(long_string.encode(\"unicode_escape\")) # Para mostrar a presença das newlines"
   ]
  },
  {
   "cell_type": "code",
   "execution_count": null,
   "metadata": {
    "collapsed": false,
    "deletable": true,
    "editable": true
   },
   "outputs": [],
   "source": [
    "# Uma outra forma de criar uma string é com seu construtor.  Observe o\n",
    "# uso do operador + para concatenar strings\n",
    "a = \"a = \" + str(1024)\n",
    "b = \"b = \" + str(3.141592653)\n",
    "c = \"c = \" + str(2 - 1j)\n",
    "print(a)\n",
    "print(b)\n",
    "print(c)"
   ]
  },
  {
   "cell_type": "code",
   "execution_count": null,
   "metadata": {
    "collapsed": false,
    "deletable": true,
    "editable": true
   },
   "outputs": [],
   "source": [
    "# Podemos criar uma string também usando o operador *\n",
    "a = \"Python \"*9\n",
    "print(a)"
   ]
  },
  {
   "cell_type": "code",
   "execution_count": null,
   "metadata": {
    "collapsed": false,
    "deletable": true,
    "editable": true
   },
   "outputs": [],
   "source": [
    "# Em Python o tipo de dado equivalente a \"char\" em C é uma string de comprimento 1\n",
    "print(ord(\"a\"))\n",
    "try:\n",
    "    print(ord(\"ab\"))\n",
    "except TypeError:\n",
    "    print(\"A função ord aceita apenas strings de comprimento 1, i.e., caracteres\")"
   ]
  },
  {
   "cell_type": "code",
   "execution_count": null,
   "metadata": {
    "collapsed": false,
    "deletable": true,
    "editable": true
   },
   "outputs": [],
   "source": [
    "# Uma string vazia tem um valor lógico idêntico a False\n",
    "print(\"\" and True)  # Observe que a string vazia não é impressa por print()\n",
    "print(\"Ok!\" and True)"
   ]
  },
  {
   "cell_type": "markdown",
   "metadata": {
    "deletable": true,
    "editable": true
   },
   "source": [
    "**Exercícios**"
   ]
  },
  {
   "cell_type": "markdown",
   "metadata": {
    "deletable": true,
    "editable": true
   },
   "source": [
    "Transforme a string \n",
    "    \"Introdução a Python\"\n",
    "em\n",
    "    \"\\*\\*\\* Introdução a Python \\*\\*\\*\""
   ]
  },
  {
   "cell_type": "code",
   "execution_count": null,
   "metadata": {
    "collapsed": false,
    "deletable": true,
    "editable": true
   },
   "outputs": [],
   "source": [
    "# Strings podem conter valores binários quaisquer com valor entre 0 e 0x10FFFF.\n",
    "# Se o valor não corresponder a um caractere \"printável\" (32 < c < 126), deve-se\n",
    "# usar o caractere \"\\\" para introduzir significados diferentes.  Caracteres\n",
    "# com \"\\\" comuns são \"\\n\" (newline), \"\\t\" (tab), \"\\\\\" (o caractere \"\\\"),\n",
    "# \"\\\"\" (aspas duplas), \"\\'\" (aspas simples), \"\\ooo\" (byte em octal),\n",
    "# \"\\xhh\" (byte em hexadecimal), \"\\uhhhh\" ou \"\\Uhhhhhhhh\" (caractere unicode)\n",
    "# Referência: file:///usr/share/doc/python3/html/reference/lexical_analysis.html#string-and-bytes-literals\n",
    "a = \"O \\xf3rg\\xe3o \\xe9 uma pe\\xe7a f\\xe1cil que n\\xf3s constru\\xedmos\"\n",
    "b = \"Primeira linha\\t\\\"Ainda na primeira linha\\\"\\nSegunda linha\\t\\\\segunda linha\\tsegunda linha\"\n",
    "c = \"R = 220 \\u2126\"  # Símbolo para ohms\n",
    "print(a)\n",
    "print(b)\n",
    "print(c)"
   ]
  },
  {
   "cell_type": "code",
   "execution_count": null,
   "metadata": {
    "collapsed": false,
    "deletable": true,
    "editable": true
   },
   "outputs": [],
   "source": [
    "# Python tem um tipo de string onde o caractere \"\\\" não é tratado de forma especial\n",
    "# Isto é muito usado para expressões regulares (veja a documentação do módulo re)\n",
    "a = r\"Agora é que eu \\n quero ver\\tNada feito\\\\\"  # Note o \"r\" no início\n",
    "print(a)"
   ]
  },
  {
   "cell_type": "code",
   "execution_count": null,
   "metadata": {
    "collapsed": false,
    "deletable": true,
    "editable": true
   },
   "outputs": [],
   "source": [
    "# Um outro tipo de string que não deve ser mais usada é a string unicode (u\"***\").\n",
    "# Este tipo de string foi definido na versão 2 do Python onde string era uma string\n",
    "# ascii apenas.  Em Python 3 o tipo string passou a ser unicode e a razão de ser\n",
    "# da string unicode deixou de existir.  A notação é mantida por razões de \n",
    "# compatibilidade apenas.\n",
    "a = u\"Resistência é medida em \\u2126!\"\n",
    "b = \"Resistência é medida em \\u2126!\"\n",
    "print(a)\n",
    "print(a == b)"
   ]
  },
  {
   "cell_type": "markdown",
   "metadata": {
    "deletable": true,
    "editable": true
   },
   "source": [
    "**Exercícios**"
   ]
  },
  {
   "cell_type": "markdown",
   "metadata": {
    "deletable": true,
    "editable": true
   },
   "source": [
    "Defina e imprima strings com as 5 primeiras letras gregas, as 5 primeiras letras hebraicas, as 5 primeiras letras arábicas  e os 5 primeiro caracteres chineses (pesquise no google)."
   ]
  },
  {
   "cell_type": "markdown",
   "metadata": {
    "deletable": true,
    "editable": true
   },
   "source": [
    "Strings binárias\n",
    "========="
   ]
  },
  {
   "cell_type": "code",
   "execution_count": null,
   "metadata": {
    "collapsed": false,
    "deletable": true,
    "editable": true
   },
   "outputs": [],
   "source": [
    "# Existe também uma string binária que só pode conter valores entre 0 e 255\n",
    "a = \"O órgão é uma peça fácil que nós construímos\"  # string normal\n",
    "b = b\"O \\xf3rg\\xe3o \\xe9 uma pe\\xe7a f\\xe1cil que n\\xf3s constru\\xedmos\"  # string binária (note o \"b\" no início)\n",
    "print(a)\n",
    "print(b)"
   ]
  },
  {
   "cell_type": "code",
   "execution_count": null,
   "metadata": {
    "collapsed": false,
    "deletable": true,
    "editable": true
   },
   "outputs": [],
   "source": [
    "# Existem duas maneiras típicas onde criamos strings binárias. Uma é a codificação para unicode\n",
    "a = \"O órgão é uma peça fácil que nós construímos\"\n",
    "b = a.encode(\"utf8\")\n",
    "print(b)\n",
    "print(b.decode(\"utf8\"))\n",
    "b = a.encode(\"latin1\")  # codificações diferentes geram strings binárias diferentes\n",
    "print(b)                # latin1 codifica para valores binários entre 0 e 255 apenas\n",
    "print(b.decode(\"latin1\"))\n",
    "try:\n",
    "    b = \"ру́сский язы́к\".encode(\"latin1\")  # é um erro se a codificação não souber traduzir os caracteres\n",
    "except UnicodeEncodeError:\n",
    "    print(\"ERRO: a string contém caracteres que não podem ser codificadas em latin1\")\n",
    "b = \"ру́сский язы́к\".encode(\"utf8\")  # já a utf8 consegue codificar a grande maioria das linguagens do mundo\n",
    "print(b)"
   ]
  },
  {
   "cell_type": "code",
   "execution_count": null,
   "metadata": {
    "collapsed": false,
    "deletable": true,
    "editable": true
   },
   "outputs": [],
   "source": [
    "# A outra é a leitura de arquivos binários\n",
    "f = open(\"strings.zip\", \"rb\")\n",
    "s = f.read(20)\n",
    "print(s)"
   ]
  },
  {
   "cell_type": "code",
   "execution_count": null,
   "metadata": {
    "collapsed": false,
    "deletable": true,
    "editable": true
   },
   "outputs": [],
   "source": [
    "# Também podemos criar uma string binária diretamente\n",
    "a = bytes(10)\n",
    "b = bytes(range(10))\n",
    "c = bytes.fromhex(\"E0c1d3 F120\")\n",
    "print(a)\n",
    "print(b)\n",
    "print(c)"
   ]
  },
  {
   "cell_type": "code",
   "execution_count": null,
   "metadata": {
    "collapsed": false,
    "deletable": true,
    "editable": true
   },
   "outputs": [],
   "source": [
    "# Uma outra maneira de criar strings binárias é pela conversão de um inteiro em seus bytes\n",
    "x = 1000000000000000\n",
    "s = x.to_bytes((x.bit_length() // 8) + 1, byteorder=\"little\")\n",
    "print(s)\n",
    "print(int.from_bytes(s, byteorder=\"little\"))"
   ]
  },
  {
   "cell_type": "markdown",
   "metadata": {
    "deletable": true,
    "editable": true
   },
   "source": [
    "**Exercícios**"
   ]
  },
  {
   "cell_type": "markdown",
   "metadata": {
    "deletable": true,
    "editable": true
   },
   "source": [
    "Crie uma string binária de comprimento 10 formada pelos números ímpares de 143 a 161 (incluindo os 2 extremos) de duas maneiras diferentes."
   ]
  },
  {
   "cell_type": "markdown",
   "metadata": {
    "deletable": true,
    "editable": true
   },
   "source": [
    "Converta via utf8 e imprima as strings com caracteres estrangeiros do exercício da seção anterior para strings binárias.  O conteúdo faz sentido para você?"
   ]
  },
  {
   "cell_type": "markdown",
   "metadata": {
    "deletable": true,
    "editable": true
   },
   "source": [
    "Crie uma string binária representando o header de um pacote IP (ignore o checksum fazendo-o igual a 0).  Escolha valores apropriados para os vários campos."
   ]
  },
  {
   "cell_type": "markdown",
   "metadata": {
    "deletable": true,
    "editable": true
   },
   "source": [
    "Operações sobre strings, bytes e bytearrays\n",
    "==="
   ]
  },
  {
   "cell_type": "code",
   "execution_count": null,
   "metadata": {
    "collapsed": false
   },
   "outputs": [],
   "source": [
    "# Python tem uma função que permite determinar o comprimento de uma string ou bytes\n",
    "a = \"Introdução a Python\"\n",
    "print(len(a))  # Uma função, não um método"
   ]
  },
  {
   "cell_type": "code",
   "execution_count": null,
   "metadata": {
    "collapsed": false,
    "deletable": true,
    "editable": true
   },
   "outputs": [],
   "source": [
    "# Podemos testar se uma determinada substring está contida em uma string através do\n",
    "# operador in, que retorna um valor booleano como resultado\n",
    "print(\"Python\" in \"Introdução a Python\")\n",
    "a = \"õ\"\n",
    "b = \"Introdução a Python\"\n",
    "print(a in b)"
   ]
  },
  {
   "cell_type": "code",
   "execution_count": null,
   "metadata": {
    "collapsed": false
   },
   "outputs": [],
   "source": [
    "# De forma similar, podemos testar se uma substring *não* está contida em uma string\n",
    "# usando not in\n",
    "print(\"Java\" not in \"Introdução a Python\")"
   ]
  },
  {
   "cell_type": "code",
   "execution_count": null,
   "metadata": {
    "collapsed": false
   },
   "outputs": [],
   "source": [
    "# Um método relacionado ao teste de inclusão é o método index(), que retorna o primeiro\n",
    "# índice onde se pode encontrar a substring passada como argumento\n",
    "a = \"Introdução a Python\"\n",
    "print(a.index(\"n\"))\n",
    "print(a.index(\"ção\"))"
   ]
  },
  {
   "cell_type": "code",
   "execution_count": null,
   "metadata": {
    "collapsed": false
   },
   "outputs": [],
   "source": [
    "# O método index() aceita um ou dois argumentos a mais para definir a faixa de valores\n",
    "# dos índices onde procurar\n",
    "c = \"o\"\n",
    "idx = a.index(c)\n",
    "print(idx)\n",
    "idx2 = a.index(c, idx+1)\n",
    "print(idx2)"
   ]
  },
  {
   "cell_type": "code",
   "execution_count": null,
   "metadata": {
    "collapsed": false
   },
   "outputs": [],
   "source": [
    "# Compare o último resultado acima com o próximo\n",
    "idx2 = a[idx+1:].index(c)\n",
    "print(idx2)"
   ]
  },
  {
   "cell_type": "code",
   "execution_count": null,
   "metadata": {
    "collapsed": false
   },
   "outputs": [],
   "source": [
    "# Se o caractere não é achado, o método index lança um erro do tipo ValueError\n",
    "try:\n",
    "    print(a.index(\"n\", 2, 14))\n",
    "except ValueError as e:\n",
    "    print(\"ERROR: \", e)"
   ]
  },
  {
   "cell_type": "code",
   "execution_count": null,
   "metadata": {
    "collapsed": false
   },
   "outputs": [],
   "source": [
    "# Um outro método de strings é o método count(), que retorna a quantidade de vezes\n",
    "# que a substring passada como argumento aparece na string\n",
    "print(a.count(\"o\"))\n",
    "print(a.count(\"z\"))\n",
    "a = \"Esta é uma introdução à linguagem Python oferecida pela Universidade Federal de Pernambuco\"\n",
    "print(a.count(\"de\"))"
   ]
  },
  {
   "cell_type": "code",
   "execution_count": null,
   "metadata": {
    "collapsed": false
   },
   "outputs": [],
   "source": [
    "# Por último, existem as funções min() e max() que retornam os valores mínimo e\n",
    "# máximo que ocorrem na string.  Observe que Python usa os valores numéricos da\n",
    "# representação unicode para determinar quem é menor ou maior, mas retorna os\n",
    "# caracteres em si\n",
    "print(min(a))\n",
    "print(max(a))"
   ]
  },
  {
   "cell_type": "code",
   "execution_count": null,
   "metadata": {
    "collapsed": true
   },
   "outputs": [],
   "source": [
    "# Deve-se observar que os métodos e funções acima se aplicam a outros tipos de dados\n",
    "# que ainda iremos estudar e que tenham a característica de serem sequência de\n",
    "# objetos.  min() e max() são provavelmente mais úteis para estes tipos de dados\n",
    "# do que para strings"
   ]
  },
  {
   "cell_type": "markdown",
   "metadata": {
    "deletable": true,
    "editable": true
   },
   "source": [
    "Operações exclusivas de strings, bytes e bytearrays\n",
    "==="
   ]
  },
  {
   "cell_type": "code",
   "execution_count": null,
   "metadata": {
    "collapsed": true
   },
   "outputs": [],
   "source": []
  },
  {
   "cell_type": "code",
   "execution_count": null,
   "metadata": {
    "collapsed": false,
    "deletable": true,
    "editable": true
   },
   "outputs": [],
   "source": [
    "# Em python, strings e bytes tem uma grande variedade de métodos próprios bastante\n",
    "# úteis para lidar com processamento de texto\n",
    "# Referência: file:///usr/share/doc/python3/html/library/stdtypes.html#string-methods\n",
    "a = \"www.python.org\"\n",
    "print(a.endswith(\"org\"))\n",
    "print(a.endswith((\"com\", \"gov\", \"net\")))\n",
    "print(a.startswith(\"www\"))"
   ]
  },
  {
   "cell_type": "code",
   "execution_count": null,
   "metadata": {
    "collapsed": false,
    "deletable": true,
    "editable": true
   },
   "outputs": [],
   "source": [
    "# Centraliza a string dentro de uma linha de comprimento 30,\n",
    "# circundando a string com \"*\"\n",
    "b = a.center(30, \"*\")\n",
    "print(a)  # Observe que a não é modificada\n",
    "print(b)  # tente usar um comprimento pequeno, por exemplo, 5"
   ]
  },
  {
   "cell_type": "code",
   "execution_count": null,
   "metadata": {
    "collapsed": false,
    "deletable": true,
    "editable": true
   },
   "outputs": [],
   "source": [
    "# O método strip() elimina da string qualquer combinação dos caracteres em seu\n",
    "# argumento. Nas linhas abaixo substitua strip() pelos métodos rstrip() e\n",
    "# lstrip() para ver o que acontece\n",
    "print(b.strip(\"*\"))\n",
    "print(b.strip(\"*\") == a)\n",
    "b = \"+++++>>>> Introdução a Python <<<<-----\"\n",
    "print(b.strip(\"+->< \"))"
   ]
  },
  {
   "cell_type": "code",
   "execution_count": null,
   "metadata": {
    "collapsed": false
   },
   "outputs": [],
   "source": [
    "# Um método similar a index() mas que retorna -1 no caso da substring não ser\n",
    "# encontrada na string é find()\n",
    "a = \"Esta é uma introdução à linguagem Python oferecida pela Universidade Federal de Pernambuco\"\n",
    "print(a.find(\"gua\"))\n",
    "print(a.find(\"língua\"))"
   ]
  },
  {
   "cell_type": "code",
   "execution_count": null,
   "metadata": {
    "collapsed": false
   },
   "outputs": [],
   "source": [
    "# Existe uma série de métodos para testar se os caracteres de uma string são de\n",
    "# um determinado tipo\n",
    "a = \"123456\"\n",
    "b = \"Argh!!!\"\n",
    "c = \"Não.\\nSim!\"\n",
    "print(a.isdigit())\n",
    "print(a.isnumeric())\n",
    "print(a.isdecimal())\n",
    "print(b.isalpha())\n",
    "print(b.islower())\n",
    "print(b.isprintable())\n",
    "print(c.isprintable())"
   ]
  },
  {
   "cell_type": "code",
   "execution_count": null,
   "metadata": {
    "collapsed": false
   },
   "outputs": [],
   "source": [
    "# Por último, existem métodos para mudar o tamanho das letras\n",
    "a = \"Introdução a Python\"\n",
    "print(a.lower())\n",
    "print(a.upper())\n",
    "print(a.title())\n",
    "print(a.swapcase())"
   ]
  },
  {
   "cell_type": "markdown",
   "metadata": {
    "deletable": true,
    "editable": true
   },
   "source": [
    "**Exercícios**"
   ]
  },
  {
   "cell_type": "markdown",
   "metadata": {
    "deletable": true,
    "editable": true
   },
   "source": [
    "Repita o exercício de transformar a string \"Introdução a Python\" em \"\\*\\*\\* Introdução a Python \\*\\*\\*\" (veja que há um espaço entre a string e os \\*) usando o método center(), apenas (sem concatenação)"
   ]
  },
  {
   "cell_type": "markdown",
   "metadata": {
    "deletable": true,
    "editable": true
   },
   "source": [
    "Transforme a string \"\\_\\_\\_\\_\\_Introdução a Python\\_\\_\\_\\_\\_\" (5 \"\\_\" em cada lado) em \"\\*\\*\\* Introdução a Python \\*\\*\\*\""
   ]
  },
  {
   "cell_type": "markdown",
   "metadata": {
    "deletable": true,
    "editable": true
   },
   "source": [
    "**Exercícios**"
   ]
  },
  {
   "cell_type": "markdown",
   "metadata": {
    "deletable": true,
    "editable": true
   },
   "source": [
    "Identifique se a string a = \"vmnkwe5r \\' \\\\ 354 a\\tsd c.as\\n{daLG{A c8Yuxb?:632 +-1njc we  w se%4312kl\" tem o caractere \" (aspas dupla), \\n e ~."
   ]
  },
  {
   "cell_type": "markdown",
   "metadata": {
    "deletable": true,
    "editable": true
   },
   "source": [
    "Formatação de strings\n",
    "===="
   ]
  },
  {
   "cell_type": "code",
   "execution_count": null,
   "metadata": {
    "collapsed": false,
    "deletable": true,
    "editable": true
   },
   "outputs": [],
   "source": [
    "# Strings tem um método, format(), para preencher partes especiais, delimitadas\n",
    "# por {}, contidas nela.  O índice entre {} indica qual parâmetro do método format()\n",
    "# usar (ó primeiro argumento tem índice 0)\n",
    "a = \"Bom dia, {1}!  Como anda a disciplina \\\"{0}\\\"?\".format(\"Introdução a Python\", \"senhor\")\n",
    "print(a)\n",
    "b = \"\"\"\\nCaro senhor {2},\n",
    "\\n\\tEsta carta é para lhe informar que você acaba de {0} um {1}.\n",
    "Solicitamos que o senhor se dirija para {3} para {4}.\n",
    "\\nObrigado.\"\"\".format(\"perder\", \"dedo do pé\", \"Antonio\", \"o hospital\", \"receber cuidados médicos\")\n",
    "print(b)\n",
    "c = \"\\nGalactic day #{0}: There are {1} more days ahead of us.\".format(105719, 3.141592653)\n",
    "print(c)"
   ]
  },
  {
   "cell_type": "code",
   "execution_count": null,
   "metadata": {
    "collapsed": false,
    "deletable": true,
    "editable": true
   },
   "outputs": [],
   "source": [
    "# Além de índices numéricos, podemos usar também os nomes dos argumentos do método format(),\n",
    "# se houver\n",
    "b = \"\"\"\\nCaro senhor {nome},\n",
    "\\n\\tEsta carta é para lhe informar que você acaba de {verbo} um {substantivo}.\n",
    "Solicitamos que o senhor se dirija para {local} para {acao}.\n",
    "\\nObrigado.\"\"\".format(verbo=\"perder\", substantivo=\"dedo do pé\", nome=\"Antonio\",\n",
    "                        local=\"o hospital\", acao=\"receber cuidados médicos\")\n",
    "print(b)"
   ]
  },
  {
   "cell_type": "code",
   "execution_count": null,
   "metadata": {
    "collapsed": false,
    "deletable": true,
    "editable": true
   },
   "outputs": [],
   "source": [
    "# Se a ordem dos placeholders {} na string for a mesma da ordem dos parâmetros\n",
    "# do método format, os índices podem ser omitidos\n",
    "c = \"\\nGalactic day #{}: There are {} more days ahead of us.\".format(105719, 3.141592653)\n",
    "print(c)"
   ]
  },
  {
   "cell_type": "code",
   "execution_count": null,
   "metadata": {
    "collapsed": false,
    "deletable": true,
    "editable": true
   },
   "outputs": [],
   "source": [
    "# Além do índice, o placeholder {} também pode conter um ou mais caracteres de formatação\n",
    "# como em C.  Os caracteres devem vir após um \":\"\n",
    "# Mais informações em file:///usr/share/doc/python3/html/library/string.html#formatspec\n",
    "a = \"Nome: {:20s}   Altura: {:4.2f}\".format(\"Antônio\", 1.752741)\n",
    "print(a)\n",
    "a = \"Nome: {:>20s}   Altura: {:4.2f}\".format(\"Antônio\", 1.752741)\n",
    "print(a)"
   ]
  },
  {
   "cell_type": "code",
   "execution_count": null,
   "metadata": {
    "collapsed": false,
    "deletable": true,
    "editable": true
   },
   "outputs": [],
   "source": [
    "# Existe uma notação mais antiga para formatação de strings, chamada de expressão-%\n",
    "# cujo uso é desestimulado mas que ainda é encontrado em código mais antigo.  Esta\n",
    "# técnica é ainda mais parecida com a string de formatação de C\n",
    "print(\"%d and %d\" % (1, 2))\n",
    "c = \"\\nGalactic day #%d: There are %f more days ahead of us.\" % (105719, 3.141592653)\n",
    "print(c)"
   ]
  },
  {
   "cell_type": "markdown",
   "metadata": {
    "deletable": true,
    "editable": true
   },
   "source": [
    "**Exercícios**"
   ]
  },
  {
   "cell_type": "markdown",
   "metadata": {
    "deletable": true,
    "editable": true
   },
   "source": [
    "Crie strings para formatar uma data definida por `dia = 31`, `mes = 2` e `ano = 2017` nos formatos DD/MM/YYYY, DD/MM/YY, MM/DD/YYYY, YYYY/MM/DD"
   ]
  },
  {
   "cell_type": "markdown",
   "metadata": {
    "deletable": true,
    "editable": true
   },
   "source": [
    "Acessando os caracteres de uma string\n",
    "==="
   ]
  },
  {
   "cell_type": "code",
   "execution_count": null,
   "metadata": {
    "collapsed": false,
    "deletable": true,
    "editable": true
   },
   "outputs": [],
   "source": [
    "# Acessamos os caracteres de uma string como se fosse um vetor\n",
    "a = \"Python\"\n",
    "print(a[0], a[1], a[2], a[3])"
   ]
  },
  {
   "cell_type": "code",
   "execution_count": null,
   "metadata": {
    "collapsed": false,
    "deletable": true,
    "editable": true
   },
   "outputs": [],
   "source": [
    "# Entretanto, não podemos alterar a string associando um novo valor a uma posição\n",
    "a = \"Python\"\n",
    "try:\n",
    "    a[1] = \"o\"\n",
    "except TypeError as e:\n",
    "    print(e)\n",
    "\n",
    "# Se quiser alterá-la, é necessário copiá-la com a alteração\n",
    "a = a[0] + \"o\" + a[2:]\n",
    "print(a)"
   ]
  },
  {
   "cell_type": "code",
   "execution_count": null,
   "metadata": {
    "collapsed": false,
    "deletable": true,
    "editable": true
   },
   "outputs": [],
   "source": [
    "# Python permite indexar os caracteres com índices negativos\n",
    "a = \"Python\"\n",
    "print(a[-4], a[-3], a[-2], a[-1])"
   ]
  },
  {
   "cell_type": "code",
   "execution_count": null,
   "metadata": {
    "collapsed": false,
    "deletable": true,
    "editable": true
   },
   "outputs": [],
   "source": [
    "# Podemos visualizar os índices da seguinte forma:\n",
    "#      P  y  t  h  o  n\n",
    "#     ^  ^  ^  ^  ^  ^ \n",
    "#     0  1  2  3  4  5\n",
    "#    -6 -5 -4 -3 -2 -1"
   ]
  },
  {
   "cell_type": "code",
   "execution_count": null,
   "metadata": {
    "collapsed": false,
    "deletable": true,
    "editable": true
   },
   "outputs": [],
   "source": [
    "# Usar um índice maior ou igual ao tamanho da string resulta em um erro\n",
    "try:\n",
    "    print(a[10])\n",
    "except IndexError as e:\n",
    "    print(e)\n",
    "try:\n",
    "    print(a[len(a)])\n",
    "except IndexError:\n",
    "    print(\"De novo???\")\n",
    "try:\n",
    "    print(a[-len(a)-1])\n",
    "except IndexError:\n",
    "    print(\"Você não se cansa???\")\n",
    "print(a[len(a)-1])  # valor máximo do índice positivo\n",
    "print(a[-len(a)])   # valor máximo (mínimo?) do índice negativo"
   ]
  },
  {
   "cell_type": "code",
   "execution_count": null,
   "metadata": {
    "collapsed": false,
    "deletable": true,
    "editable": true
   },
   "outputs": [],
   "source": [
    "# Uma característica poderosa de Python é a capacidade de gerar slices\n",
    "a = \"Python\"\n",
    "print(a[1:4])\n",
    "print(a[0:len(a)])\n",
    "print(a[0:2*len(a)])\n",
    "print(a[-5:-1])   # Note os índices negativos\n",
    "print(a[1:5:2])   # Um terceiro argumento para a slice define o passo\n",
    "print(a[0:len(a):2])\n",
    "print(a[4:1:-1])"
   ]
  },
  {
   "cell_type": "code",
   "execution_count": null,
   "metadata": {
    "collapsed": false,
    "deletable": true,
    "editable": true
   },
   "outputs": [],
   "source": [
    "# Se um ou os dois extremos são omitidos, Python substitui pelo valor \n",
    "# máximo ou mínimo permitido para a string\n",
    "print(a[:4])\n",
    "print(a[-4:])\n",
    "print(a[:])\n",
    "print(a[::-1])  # preste atenção neste caso"
   ]
  },
  {
   "cell_type": "code",
   "execution_count": null,
   "metadata": {
    "collapsed": false,
    "deletable": true,
    "editable": true
   },
   "outputs": [],
   "source": [
    "# Ao contrário de acessar elementos individuais, usar índices fora da faixa\n",
    "# permitida [-len(s), len(s)-1] em uma slice não dá problema\n",
    "# Tente identificar o que Python faz com estes valores fora da faixa\n",
    "print(a[0:2*len(a)])\n",
    "print(a[0:20:2])\n",
    "print(a[-20:20])"
   ]
  },
  {
   "cell_type": "markdown",
   "metadata": {
    "deletable": true,
    "editable": true
   },
   "source": [
    "**Exercícios**"
   ]
  },
  {
   "cell_type": "markdown",
   "metadata": {
    "deletable": true,
    "editable": true
   },
   "source": [
    "Um tipo de cifra criptográfica muito simples consiste em se escrever nas linhas de uma matriz e ler suas colunas.  Cifre com este método usando uma matriz 6x4 a frase \"Introdução à Cartografia\" (use slices)."
   ]
  },
  {
   "cell_type": "markdown",
   "metadata": {
    "deletable": true,
    "editable": true
   },
   "source": [
    "Implemente a cifra de Cesar (A->D, B->E, C->F, etc).  Use o método translate() (veja a [documentação](file:///usr/share/doc/python3/html/library/stdtypes.html#str.translate))"
   ]
  },
  {
   "cell_type": "markdown",
   "metadata": {
    "deletable": true,
    "editable": true
   },
   "source": [
    "Dada uma palavra de pelo menos 2 letras, inverta as letras internas (exemplo: \"python\" -> \"pohtyn\")"
   ]
  },
  {
   "cell_type": "markdown",
   "metadata": {
    "deletable": true,
    "editable": true
   },
   "source": [
    "Miscelânea\n",
    "==="
   ]
  },
  {
   "cell_type": "code",
   "execution_count": null,
   "metadata": {
    "collapsed": false,
    "deletable": true,
    "editable": true
   },
   "outputs": [],
   "source": [
    "# Na biblioteca padrão de Python existe um módulo, string, que define algumas\n",
    "# constantes e funções a mais que podem ser úteis para se trabalhar com strings\n",
    "import string\n",
    "print(string.ascii_letters)\n",
    "print(string.ascii_lowercase)\n",
    "print(string.printable)"
   ]
  }
 ],
 "metadata": {
  "kernelspec": {
   "display_name": "Python 3",
   "language": "python",
   "name": "python3"
  },
  "language_info": {
   "codemirror_mode": {
    "name": "ipython",
    "version": 3
   },
   "file_extension": ".py",
   "mimetype": "text/x-python",
   "name": "python",
   "nbconvert_exporter": "python",
   "pygments_lexer": "ipython3",
   "version": "3.6.3"
  }
 },
 "nbformat": 4,
 "nbformat_minor": 2
}
